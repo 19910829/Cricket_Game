{
 "cells": [
  {
   "cell_type": "code",
   "execution_count": 3,
   "id": "d39923a6-a04b-41de-ab4c-2f36224e139d",
   "metadata": {},
   "outputs": [
    {
     "name": "stdout",
     "output_type": "stream",
     "text": [
      "Welcome to Simple Cricket Game\n",
      "\n",
      "Team A's Batting:\n",
      "\n",
      "Over 1:\n"
     ]
    },
    {
     "name": "stdin",
     "output_type": "stream",
     "text": [
      "Press Enter to bowl: \n"
     ]
    },
    {
     "name": "stdout",
     "output_type": "stream",
     "text": [
      "Ball 1: 4 runs scored\n",
      "\n",
      "Current Scoreboard:\n",
      "Team A: 4 \n",
      "Team B: 0\n"
     ]
    },
    {
     "name": "stdin",
     "output_type": "stream",
     "text": [
      "Press Enter to bowl: \n"
     ]
    },
    {
     "name": "stdout",
     "output_type": "stream",
     "text": [
      "Ball 2: 4 runs scored\n",
      "\n",
      "Current Scoreboard:\n",
      "Team A: 8 \n",
      "Team B: 0\n"
     ]
    },
    {
     "name": "stdin",
     "output_type": "stream",
     "text": [
      "Press Enter to bowl: \n"
     ]
    },
    {
     "name": "stdout",
     "output_type": "stream",
     "text": [
      "Ball 3: 6 runs scored\n",
      "\n",
      "Current Scoreboard:\n",
      "Team A: 14 \n",
      "Team B: 0\n"
     ]
    },
    {
     "name": "stdin",
     "output_type": "stream",
     "text": [
      "Press Enter to bowl: \n"
     ]
    },
    {
     "name": "stdout",
     "output_type": "stream",
     "text": [
      "Ball 4: 6 runs scored\n",
      "\n",
      "Current Scoreboard:\n",
      "Team A: 20 \n",
      "Team B: 0\n"
     ]
    },
    {
     "name": "stdin",
     "output_type": "stream",
     "text": [
      "Press Enter to bowl: \n"
     ]
    },
    {
     "name": "stdout",
     "output_type": "stream",
     "text": [
      "Ball 5: 3 runs scored\n",
      "\n",
      "Current Scoreboard:\n",
      "Team A: 23 \n",
      "Team B: 0\n"
     ]
    },
    {
     "name": "stdin",
     "output_type": "stream",
     "text": [
      "Press Enter to bowl: \n"
     ]
    },
    {
     "name": "stdout",
     "output_type": "stream",
     "text": [
      "Ball 6: 3 runs scored\n",
      "\n",
      "Current Scoreboard:\n",
      "Team A: 26 \n",
      "Team B: 0\n",
      "\n",
      "Over 2:\n"
     ]
    },
    {
     "name": "stdin",
     "output_type": "stream",
     "text": [
      "Press Enter to bowl: \n"
     ]
    },
    {
     "name": "stdout",
     "output_type": "stream",
     "text": [
      "Ball 1: 1 runs scored\n",
      "\n",
      "Current Scoreboard:\n",
      "Team A: 27 \n",
      "Team B: 0\n"
     ]
    },
    {
     "name": "stdin",
     "output_type": "stream",
     "text": [
      "Press Enter to bowl: \n"
     ]
    },
    {
     "name": "stdout",
     "output_type": "stream",
     "text": [
      "Ball 2: 0 runs scored\n",
      "\n",
      "Current Scoreboard:\n",
      "Team A: 27 \n",
      "Team B: 0\n"
     ]
    },
    {
     "name": "stdin",
     "output_type": "stream",
     "text": [
      "Press Enter to bowl: \n"
     ]
    },
    {
     "name": "stdout",
     "output_type": "stream",
     "text": [
      "Ball 3: 6 runs scored\n",
      "\n",
      "Current Scoreboard:\n",
      "Team A: 33 \n",
      "Team B: 0\n"
     ]
    },
    {
     "name": "stdin",
     "output_type": "stream",
     "text": [
      "Press Enter to bowl: \n"
     ]
    },
    {
     "name": "stdout",
     "output_type": "stream",
     "text": [
      "Ball 4: 2 runs scored\n",
      "\n",
      "Current Scoreboard:\n",
      "Team A: 35 \n",
      "Team B: 0\n"
     ]
    },
    {
     "name": "stdin",
     "output_type": "stream",
     "text": [
      "Press Enter to bowl: \n"
     ]
    },
    {
     "name": "stdout",
     "output_type": "stream",
     "text": [
      "Ball 5: 6 runs scored\n",
      "\n",
      "Current Scoreboard:\n",
      "Team A: 41 \n",
      "Team B: 0\n"
     ]
    },
    {
     "name": "stdin",
     "output_type": "stream",
     "text": [
      "Press Enter to bowl: \n"
     ]
    },
    {
     "name": "stdout",
     "output_type": "stream",
     "text": [
      "Ball 6: 0 runs scored\n",
      "\n",
      "Current Scoreboard:\n",
      "Team A: 41 \n",
      "Team B: 0\n",
      "\n",
      "Over 3:\n"
     ]
    },
    {
     "name": "stdin",
     "output_type": "stream",
     "text": [
      "Press Enter to bowl: \n"
     ]
    },
    {
     "name": "stdout",
     "output_type": "stream",
     "text": [
      "Ball 1: 3 runs scored\n",
      "\n",
      "Current Scoreboard:\n",
      "Team A: 44 \n",
      "Team B: 0\n"
     ]
    },
    {
     "name": "stdin",
     "output_type": "stream",
     "text": [
      "Press Enter to bowl: \n"
     ]
    },
    {
     "name": "stdout",
     "output_type": "stream",
     "text": [
      "Ball 2: 2 runs scored\n",
      "\n",
      "Current Scoreboard:\n",
      "Team A: 46 \n",
      "Team B: 0\n"
     ]
    },
    {
     "name": "stdin",
     "output_type": "stream",
     "text": [
      "Press Enter to bowl: \n"
     ]
    },
    {
     "name": "stdout",
     "output_type": "stream",
     "text": [
      "Ball 3: 1 runs scored\n",
      "\n",
      "Current Scoreboard:\n",
      "Team A: 47 \n",
      "Team B: 0\n"
     ]
    },
    {
     "name": "stdin",
     "output_type": "stream",
     "text": [
      "Press Enter to bowl: \n"
     ]
    },
    {
     "name": "stdout",
     "output_type": "stream",
     "text": [
      "Ball 4: 2 runs scored\n",
      "\n",
      "Current Scoreboard:\n",
      "Team A: 49 \n",
      "Team B: 0\n"
     ]
    },
    {
     "name": "stdin",
     "output_type": "stream",
     "text": [
      "Press Enter to bowl: \n"
     ]
    },
    {
     "name": "stdout",
     "output_type": "stream",
     "text": [
      "Ball 5: 6 runs scored\n",
      "\n",
      "Current Scoreboard:\n",
      "Team A: 55 \n",
      "Team B: 0\n"
     ]
    },
    {
     "name": "stdin",
     "output_type": "stream",
     "text": [
      "Press Enter to bowl: \n"
     ]
    },
    {
     "name": "stdout",
     "output_type": "stream",
     "text": [
      "Ball 6: 0 runs scored\n",
      "\n",
      "Current Scoreboard:\n",
      "Team A: 55 \n",
      "Team B: 0\n",
      "\n",
      "Over 4:\n"
     ]
    },
    {
     "name": "stdin",
     "output_type": "stream",
     "text": [
      "Press Enter to bowl: \n"
     ]
    },
    {
     "name": "stdout",
     "output_type": "stream",
     "text": [
      "Ball 1: 2 runs scored\n",
      "\n",
      "Current Scoreboard:\n",
      "Team A: 57 \n",
      "Team B: 0\n"
     ]
    },
    {
     "name": "stdin",
     "output_type": "stream",
     "text": [
      "Press Enter to bowl: \n"
     ]
    },
    {
     "name": "stdout",
     "output_type": "stream",
     "text": [
      "Ball 2: 6 runs scored\n",
      "\n",
      "Current Scoreboard:\n",
      "Team A: 63 \n",
      "Team B: 0\n"
     ]
    },
    {
     "name": "stdin",
     "output_type": "stream",
     "text": [
      "Press Enter to bowl: \n"
     ]
    },
    {
     "name": "stdout",
     "output_type": "stream",
     "text": [
      "Ball 3: 1 runs scored\n",
      "\n",
      "Current Scoreboard:\n",
      "Team A: 64 \n",
      "Team B: 0\n"
     ]
    },
    {
     "name": "stdin",
     "output_type": "stream",
     "text": [
      "Press Enter to bowl: \n"
     ]
    },
    {
     "name": "stdout",
     "output_type": "stream",
     "text": [
      "Ball 4: 4 runs scored\n",
      "\n",
      "Current Scoreboard:\n",
      "Team A: 68 \n",
      "Team B: 0\n"
     ]
    },
    {
     "name": "stdin",
     "output_type": "stream",
     "text": [
      "Press Enter to bowl: \n"
     ]
    },
    {
     "name": "stdout",
     "output_type": "stream",
     "text": [
      "Ball 5: 4 runs scored\n",
      "\n",
      "Current Scoreboard:\n",
      "Team A: 72 \n",
      "Team B: 0\n"
     ]
    },
    {
     "name": "stdin",
     "output_type": "stream",
     "text": [
      "Press Enter to bowl: \n"
     ]
    },
    {
     "name": "stdout",
     "output_type": "stream",
     "text": [
      "Ball 6: 3 runs scored\n",
      "\n",
      "Current Scoreboard:\n",
      "Team A: 75 \n",
      "Team B: 0\n",
      "\n",
      "Over 5:\n"
     ]
    },
    {
     "name": "stdin",
     "output_type": "stream",
     "text": [
      "Press Enter to bowl: \n"
     ]
    },
    {
     "name": "stdout",
     "output_type": "stream",
     "text": [
      "Ball 1: 0 runs scored\n",
      "\n",
      "Current Scoreboard:\n",
      "Team A: 75 \n",
      "Team B: 0\n"
     ]
    },
    {
     "name": "stdin",
     "output_type": "stream",
     "text": [
      "Press Enter to bowl: \n"
     ]
    },
    {
     "name": "stdout",
     "output_type": "stream",
     "text": [
      "Ball 2: 2 runs scored\n",
      "\n",
      "Current Scoreboard:\n",
      "Team A: 77 \n",
      "Team B: 0\n"
     ]
    },
    {
     "name": "stdin",
     "output_type": "stream",
     "text": [
      "Press Enter to bowl: \n"
     ]
    },
    {
     "name": "stdout",
     "output_type": "stream",
     "text": [
      "Ball 3: 6 runs scored\n",
      "\n",
      "Current Scoreboard:\n",
      "Team A: 83 \n",
      "Team B: 0\n"
     ]
    },
    {
     "name": "stdin",
     "output_type": "stream",
     "text": [
      "Press Enter to bowl: \n"
     ]
    },
    {
     "name": "stdout",
     "output_type": "stream",
     "text": [
      "Ball 4: 3 runs scored\n",
      "\n",
      "Current Scoreboard:\n",
      "Team A: 86 \n",
      "Team B: 0\n"
     ]
    },
    {
     "name": "stdin",
     "output_type": "stream",
     "text": [
      "Press Enter to bowl: \n"
     ]
    },
    {
     "name": "stdout",
     "output_type": "stream",
     "text": [
      "Ball 5: 1 runs scored\n",
      "\n",
      "Current Scoreboard:\n",
      "Team A: 87 \n",
      "Team B: 0\n"
     ]
    },
    {
     "name": "stdin",
     "output_type": "stream",
     "text": [
      "Press Enter to bowl: \n"
     ]
    },
    {
     "name": "stdout",
     "output_type": "stream",
     "text": [
      "Ball 6: 0 runs scored\n",
      "\n",
      "Current Scoreboard:\n",
      "Team A: 87 \n",
      "Team B: 0\n",
      "\n",
      "Team B's Batting:\n",
      "\n",
      "Over 1:\n"
     ]
    },
    {
     "name": "stdin",
     "output_type": "stream",
     "text": [
      "Press Enter to bowl: \n"
     ]
    },
    {
     "name": "stdout",
     "output_type": "stream",
     "text": [
      "Ball 1: 4 runs scored\n",
      "\n",
      "Current Scoreboard:\n",
      "Team A: 87 \n",
      "Team B: 4\n"
     ]
    },
    {
     "name": "stdin",
     "output_type": "stream",
     "text": [
      "Press Enter to bowl: \n"
     ]
    },
    {
     "name": "stdout",
     "output_type": "stream",
     "text": [
      "Ball 2: 0 runs scored\n",
      "\n",
      "Current Scoreboard:\n",
      "Team A: 87 \n",
      "Team B: 4\n"
     ]
    },
    {
     "name": "stdin",
     "output_type": "stream",
     "text": [
      "Press Enter to bowl: \n"
     ]
    },
    {
     "name": "stdout",
     "output_type": "stream",
     "text": [
      "Ball 3: 2 runs scored\n",
      "\n",
      "Current Scoreboard:\n",
      "Team A: 87 \n",
      "Team B: 6\n"
     ]
    },
    {
     "name": "stdin",
     "output_type": "stream",
     "text": [
      "Press Enter to bowl: \n"
     ]
    },
    {
     "name": "stdout",
     "output_type": "stream",
     "text": [
      "Ball 4: 2 runs scored\n",
      "\n",
      "Current Scoreboard:\n",
      "Team A: 87 \n",
      "Team B: 8\n"
     ]
    },
    {
     "name": "stdin",
     "output_type": "stream",
     "text": [
      "Press Enter to bowl: \n"
     ]
    },
    {
     "name": "stdout",
     "output_type": "stream",
     "text": [
      "Ball 5: 4 runs scored\n",
      "\n",
      "Current Scoreboard:\n",
      "Team A: 87 \n",
      "Team B: 12\n"
     ]
    },
    {
     "name": "stdin",
     "output_type": "stream",
     "text": [
      "Press Enter to bowl: \n"
     ]
    },
    {
     "name": "stdout",
     "output_type": "stream",
     "text": [
      "Ball 6: 6 runs scored\n",
      "\n",
      "Current Scoreboard:\n",
      "Team A: 87 \n",
      "Team B: 18\n",
      "\n",
      "Over 2:\n"
     ]
    },
    {
     "name": "stdin",
     "output_type": "stream",
     "text": [
      "Press Enter to bowl: \n"
     ]
    },
    {
     "name": "stdout",
     "output_type": "stream",
     "text": [
      "Ball 1: 2 runs scored\n",
      "\n",
      "Current Scoreboard:\n",
      "Team A: 87 \n",
      "Team B: 20\n"
     ]
    },
    {
     "name": "stdin",
     "output_type": "stream",
     "text": [
      "Press Enter to bowl: \n"
     ]
    },
    {
     "name": "stdout",
     "output_type": "stream",
     "text": [
      "Ball 2: 1 runs scored\n",
      "\n",
      "Current Scoreboard:\n",
      "Team A: 87 \n",
      "Team B: 21\n"
     ]
    },
    {
     "name": "stdin",
     "output_type": "stream",
     "text": [
      "Press Enter to bowl: \n"
     ]
    },
    {
     "name": "stdout",
     "output_type": "stream",
     "text": [
      "Ball 3: 4 runs scored\n",
      "\n",
      "Current Scoreboard:\n",
      "Team A: 87 \n",
      "Team B: 25\n"
     ]
    },
    {
     "name": "stdin",
     "output_type": "stream",
     "text": [
      "Press Enter to bowl: \n"
     ]
    },
    {
     "name": "stdout",
     "output_type": "stream",
     "text": [
      "Ball 4: 1 runs scored\n",
      "\n",
      "Current Scoreboard:\n",
      "Team A: 87 \n",
      "Team B: 26\n"
     ]
    },
    {
     "name": "stdin",
     "output_type": "stream",
     "text": [
      "Press Enter to bowl: \n"
     ]
    },
    {
     "name": "stdout",
     "output_type": "stream",
     "text": [
      "Ball 5: 1 runs scored\n",
      "\n",
      "Current Scoreboard:\n",
      "Team A: 87 \n",
      "Team B: 27\n"
     ]
    },
    {
     "name": "stdin",
     "output_type": "stream",
     "text": [
      "Press Enter to bowl: \n"
     ]
    },
    {
     "name": "stdout",
     "output_type": "stream",
     "text": [
      "Ball 6: 3 runs scored\n",
      "\n",
      "Current Scoreboard:\n",
      "Team A: 87 \n",
      "Team B: 30\n",
      "\n",
      "Over 3:\n"
     ]
    },
    {
     "name": "stdin",
     "output_type": "stream",
     "text": [
      "Press Enter to bowl: \n"
     ]
    },
    {
     "name": "stdout",
     "output_type": "stream",
     "text": [
      "Ball 1: 4 runs scored\n",
      "\n",
      "Current Scoreboard:\n",
      "Team A: 87 \n",
      "Team B: 34\n"
     ]
    },
    {
     "name": "stdin",
     "output_type": "stream",
     "text": [
      "Press Enter to bowl: \n"
     ]
    },
    {
     "name": "stdout",
     "output_type": "stream",
     "text": [
      "Ball 2: 2 runs scored\n",
      "\n",
      "Current Scoreboard:\n",
      "Team A: 87 \n",
      "Team B: 36\n"
     ]
    },
    {
     "name": "stdin",
     "output_type": "stream",
     "text": [
      "Press Enter to bowl: \n"
     ]
    },
    {
     "name": "stdout",
     "output_type": "stream",
     "text": [
      "Ball 3: 2 runs scored\n",
      "\n",
      "Current Scoreboard:\n",
      "Team A: 87 \n",
      "Team B: 38\n"
     ]
    },
    {
     "name": "stdin",
     "output_type": "stream",
     "text": [
      "Press Enter to bowl: \n"
     ]
    },
    {
     "name": "stdout",
     "output_type": "stream",
     "text": [
      "Ball 4: 0 runs scored\n",
      "\n",
      "Current Scoreboard:\n",
      "Team A: 87 \n",
      "Team B: 38\n"
     ]
    },
    {
     "name": "stdin",
     "output_type": "stream",
     "text": [
      "Press Enter to bowl: \n"
     ]
    },
    {
     "name": "stdout",
     "output_type": "stream",
     "text": [
      "Ball 5: 2 runs scored\n",
      "\n",
      "Current Scoreboard:\n",
      "Team A: 87 \n",
      "Team B: 40\n"
     ]
    },
    {
     "name": "stdin",
     "output_type": "stream",
     "text": [
      "Press Enter to bowl: \n"
     ]
    },
    {
     "name": "stdout",
     "output_type": "stream",
     "text": [
      "Ball 6: 0 runs scored\n",
      "\n",
      "Current Scoreboard:\n",
      "Team A: 87 \n",
      "Team B: 40\n",
      "\n",
      "Over 4:\n"
     ]
    },
    {
     "name": "stdin",
     "output_type": "stream",
     "text": [
      "Press Enter to bowl: \n"
     ]
    },
    {
     "name": "stdout",
     "output_type": "stream",
     "text": [
      "Ball 1: 3 runs scored\n",
      "\n",
      "Current Scoreboard:\n",
      "Team A: 87 \n",
      "Team B: 43\n"
     ]
    },
    {
     "name": "stdin",
     "output_type": "stream",
     "text": [
      "Press Enter to bowl: \n"
     ]
    },
    {
     "name": "stdout",
     "output_type": "stream",
     "text": [
      "Ball 2: 0 runs scored\n",
      "\n",
      "Current Scoreboard:\n",
      "Team A: 87 \n",
      "Team B: 43\n"
     ]
    },
    {
     "name": "stdin",
     "output_type": "stream",
     "text": [
      "Press Enter to bowl: \n"
     ]
    },
    {
     "name": "stdout",
     "output_type": "stream",
     "text": [
      "Ball 3: 2 runs scored\n",
      "\n",
      "Current Scoreboard:\n",
      "Team A: 87 \n",
      "Team B: 45\n"
     ]
    },
    {
     "name": "stdin",
     "output_type": "stream",
     "text": [
      "Press Enter to bowl: \n"
     ]
    },
    {
     "name": "stdout",
     "output_type": "stream",
     "text": [
      "Ball 4: 6 runs scored\n",
      "\n",
      "Current Scoreboard:\n",
      "Team A: 87 \n",
      "Team B: 51\n"
     ]
    },
    {
     "name": "stdin",
     "output_type": "stream",
     "text": [
      "Press Enter to bowl: \n"
     ]
    },
    {
     "name": "stdout",
     "output_type": "stream",
     "text": [
      "Ball 5: 6 runs scored\n",
      "\n",
      "Current Scoreboard:\n",
      "Team A: 87 \n",
      "Team B: 57\n"
     ]
    },
    {
     "name": "stdin",
     "output_type": "stream",
     "text": [
      "Press Enter to bowl: \n"
     ]
    },
    {
     "name": "stdout",
     "output_type": "stream",
     "text": [
      "Ball 6: 3 runs scored\n",
      "\n",
      "Current Scoreboard:\n",
      "Team A: 87 \n",
      "Team B: 60\n",
      "\n",
      "Over 5:\n"
     ]
    },
    {
     "name": "stdin",
     "output_type": "stream",
     "text": [
      "Press Enter to bowl: \n"
     ]
    },
    {
     "name": "stdout",
     "output_type": "stream",
     "text": [
      "Ball 1: 2 runs scored\n",
      "\n",
      "Current Scoreboard:\n",
      "Team A: 87 \n",
      "Team B: 62\n"
     ]
    },
    {
     "name": "stdin",
     "output_type": "stream",
     "text": [
      "Press Enter to bowl: \n"
     ]
    },
    {
     "name": "stdout",
     "output_type": "stream",
     "text": [
      "Ball 2: 3 runs scored\n",
      "\n",
      "Current Scoreboard:\n",
      "Team A: 87 \n",
      "Team B: 65\n"
     ]
    },
    {
     "name": "stdin",
     "output_type": "stream",
     "text": [
      "Press Enter to bowl: \n"
     ]
    },
    {
     "name": "stdout",
     "output_type": "stream",
     "text": [
      "Ball 3: 3 runs scored\n",
      "\n",
      "Current Scoreboard:\n",
      "Team A: 87 \n",
      "Team B: 68\n"
     ]
    },
    {
     "name": "stdin",
     "output_type": "stream",
     "text": [
      "Press Enter to bowl: \n"
     ]
    },
    {
     "name": "stdout",
     "output_type": "stream",
     "text": [
      "Ball 4: 6 runs scored\n",
      "\n",
      "Current Scoreboard:\n",
      "Team A: 87 \n",
      "Team B: 74\n"
     ]
    },
    {
     "name": "stdin",
     "output_type": "stream",
     "text": [
      "Press Enter to bowl: \n"
     ]
    },
    {
     "name": "stdout",
     "output_type": "stream",
     "text": [
      "Ball 5: 6 runs scored\n",
      "\n",
      "Current Scoreboard:\n",
      "Team A: 87 \n",
      "Team B: 80\n"
     ]
    },
    {
     "name": "stdin",
     "output_type": "stream",
     "text": [
      "Press Enter to bowl: \n"
     ]
    },
    {
     "name": "stdout",
     "output_type": "stream",
     "text": [
      "Ball 6: 2 runs scored\n",
      "\n",
      "Current Scoreboard:\n",
      "Team A: 87 \n",
      "Team B: 82\n",
      "Team A wins by 5 runs\n",
      "\n",
      "Final Scoreboard:\n",
      "Team A: 87 \n",
      "Team B: 82\n"
     ]
    }
   ],
   "source": [
    "import random\n",
    "\n",
    "def play_ball():\n",
    "    return random.choice([0, 1, 2, 3, 4, 6])\n",
    "\n",
    "def cricket_game():\n",
    "    overs, scoreboard = 5, {\"Team A\": 0, \"Team B\": 0}\n",
    "\n",
    "    def display_scoreboard():\n",
    "        print(\"\\nCurrent Scoreboard:\\nTeam A:\", scoreboard[\"Team A\"], \"\\nTeam B:\", scoreboard[\"Team B\"])\n",
    "\n",
    "    print(\"Welcome to Simple Cricket Game\")\n",
    "\n",
    "    for team in (\"Team A\", \"Team B\"):\n",
    "        print(f\"\\n{team}'s Batting:\")\n",
    "        target = scoreboard[\"Team A\"] + 1 if team == \"Team B\" else 0\n",
    "\n",
    "        for over in range(overs):\n",
    "            print(f\"\\nOver {over + 1}:\")\n",
    "\n",
    "            for ball in range(6):\n",
    "                input(\"Press Enter to bowl:\")\n",
    "                run_scored = play_ball()\n",
    "                print(f\"Ball {ball + 1}: {run_scored} runs scored\")\n",
    "                scoreboard[team] += run_scored\n",
    "                display_scoreboard()\n",
    "\n",
    "        if team == \"Team B\" and scoreboard[team] > target:\n",
    "            print(f\"{team} wins by {scoreboard[team] - target} runs\")\n",
    "            return\n",
    "\n",
    "    # Determine the match result after both teams have batted\n",
    "    if scoreboard[\"Team A\"] == scoreboard[\"Team B\"]:\n",
    "        print(\"\\nMatch Drawn!!\")\n",
    "    else:\n",
    "        winner = \"Team A\" if scoreboard[\"Team A\"] > scoreboard[\"Team B\"] else \"Team B\"\n",
    "        runs_difference = abs(scoreboard[\"Team A\"] - scoreboard[\"Team B\"])\n",
    "        print(f\"{winner} wins by {runs_difference} runs\")\n",
    "\n",
    "    print(f\"\\nFinal Scoreboard:\\nTeam A:\", scoreboard[\"Team A\"], \"\\nTeam B:\", scoreboard[\"Team B\"])\n",
    "\n",
    "if __name__ == \"__main__\":\n",
    "    cricket_game()\n"
   ]
  },
  {
   "cell_type": "code",
   "execution_count": null,
   "id": "abd4155f-aa07-4666-9d84-a3e6a5d01caa",
   "metadata": {},
   "outputs": [],
   "source": []
  }
 ],
 "metadata": {
  "kernelspec": {
   "display_name": "Python 3 (ipykernel)",
   "language": "python",
   "name": "python3"
  },
  "language_info": {
   "codemirror_mode": {
    "name": "ipython",
    "version": 3
   },
   "file_extension": ".py",
   "mimetype": "text/x-python",
   "name": "python",
   "nbconvert_exporter": "python",
   "pygments_lexer": "ipython3",
   "version": "3.12.7"
  }
 },
 "nbformat": 4,
 "nbformat_minor": 5
}
